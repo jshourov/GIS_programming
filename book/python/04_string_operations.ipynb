{
  "cells": [
    {
      "cell_type": "markdown",
      "id": "0",
      "metadata": {
        "id": "0"
      },
      "source": [
        "# String Operations\n",
        "\n",
        "[![Open In Colab](https://colab.research.google.com/assets/colab-badge.svg)](https://colab.research.google.com/github/giswqs/geog-312/blob/main/book/python/04_string_operations.ipynb)\n",
        "\n",
        "## Overview\n",
        "\n",
        "This lecture will cover various string operations in Python, with a focus on their application in geospatial contexts. Strings are fundamental in handling textual data, such as names of geographic locations, coordinates, and data extracted from text files. Mastering string operations allows you to effectively manipulate and analyze geographic information, which is essential for tasks like data cleaning, formatting, parsing, and even geocoding.\n",
        "\n",
        "## Learning Objectives\n",
        "\n",
        "By the end of this lecture, you should be able to:\n",
        "\n",
        "- Create and manipulate strings in Python, including concatenation and repetition.\n",
        "- Apply string methods such as `lower()`, `upper()`, `strip()`, `replace()`, and `split()` to process geospatial data.\n",
        "- Format strings using the `format()` method and f-strings to include variable data within strings.\n",
        "- Parse and extract specific information from strings, such as coordinates or location names.\n",
        "- Utilize string operations in practical geospatial tasks, enhancing your ability to work with and manage geographic data."
      ]
    },
    {
      "cell_type": "markdown",
      "id": "1",
      "metadata": {
        "id": "1"
      },
      "source": [
        "## Creating and Manipulating Strings\n",
        "\n",
        "Strings in Python are sequences of characters. You can create a string by enclosing characters in single or double quotes."
      ]
    },
    {
      "cell_type": "code",
      "execution_count": 1,
      "id": "2",
      "metadata": {
        "id": "2"
      },
      "outputs": [],
      "source": [
        "location_name = \"Mount Everest\"  # A string representing the name of a location"
      ]
    },
    {
      "cell_type": "markdown",
      "id": "3",
      "metadata": {
        "id": "3"
      },
      "source": [
        "You can concatenate (join) strings using the `+` operator:"
      ]
    },
    {
      "cell_type": "code",
      "execution_count": 2,
      "id": "4",
      "metadata": {
        "id": "4",
        "outputId": "66a5ddc7-cabb-4e69-aea3-7e5341fbfe0f",
        "colab": {
          "base_uri": "https://localhost:8080/"
        }
      },
      "outputs": [
        {
          "output_type": "stream",
          "name": "stdout",
          "text": [
            "Mount Everest, Nepal\n"
          ]
        }
      ],
      "source": [
        "location_name_full = location_name + \", Nepal\"\n",
        "print(location_name_full)"
      ]
    },
    {
      "cell_type": "markdown",
      "id": "5",
      "metadata": {
        "id": "5"
      },
      "source": [
        "You can also repeat strings using the `*` operator:"
      ]
    },
    {
      "cell_type": "code",
      "execution_count": 3,
      "id": "6",
      "metadata": {
        "id": "6",
        "outputId": "0eabd193-b536-46ee-fe3f-51ab5f0bbc20",
        "colab": {
          "base_uri": "https://localhost:8080/"
        }
      },
      "outputs": [
        {
          "output_type": "stream",
          "name": "stdout",
          "text": [
            "----------\n"
          ]
        }
      ],
      "source": [
        "separator = \"-\" * 10\n",
        "print(separator)"
      ]
    },
    {
      "cell_type": "markdown",
      "id": "7",
      "metadata": {
        "id": "7"
      },
      "source": [
        "Let's construct a basic SQL query string to select data from a geospatial database:"
      ]
    },
    {
      "cell_type": "code",
      "execution_count": 4,
      "id": "8",
      "metadata": {
        "id": "8",
        "outputId": "6c96141b-92e7-4941-d285-d7ea2eaa6e2b",
        "colab": {
          "base_uri": "https://localhost:8080/"
        }
      },
      "outputs": [
        {
          "output_type": "stream",
          "name": "stdout",
          "text": [
            "SELECT * FROM locations WHERE country = 'Nepal';\n"
          ]
        }
      ],
      "source": [
        "table_name = \"locations\"\n",
        "condition = \"country = 'Nepal'\"\n",
        "sql_query = f\"SELECT * FROM {table_name} WHERE {condition};\"\n",
        "print(sql_query)"
      ]
    },
    {
      "cell_type": "markdown",
      "id": "9",
      "metadata": {
        "id": "9"
      },
      "source": [
        "In more complex scenarios, you might want to dynamically build queries based on user input or multiple conditions."
      ]
    },
    {
      "cell_type": "markdown",
      "id": "10",
      "metadata": {
        "id": "10"
      },
      "source": [
        "## String Methods for Geospatial Data\n",
        "\n",
        "Python provides various built-in methods to manipulate strings. Some commonly used methods include:\n",
        "\n",
        "- `lower()`, `upper()`: Convert strings to lowercase or uppercase.\n",
        "- `strip()`: Remove leading and trailing whitespace.\n",
        "- `lstrip()`, `rstrip()`: Remove leading or trailing whitespace.\n",
        "- `replace()`: Replace a substring with another substring.\n",
        "- `split()`: Split a string into a list of substrings based on a delimiter.\n",
        "- `join()`: Join a list of strings into a single string with a specified delimiter."
      ]
    },
    {
      "cell_type": "code",
      "execution_count": 5,
      "id": "11",
      "metadata": {
        "id": "11",
        "outputId": "1dd87794-9c94-45f8-bccd-6114f6b68d71",
        "colab": {
          "base_uri": "https://localhost:8080/"
        }
      },
      "outputs": [
        {
          "output_type": "stream",
          "name": "stdout",
          "text": [
            "MOUNT EVEREST\n"
          ]
        }
      ],
      "source": [
        "location_name_upper = location_name.upper()\n",
        "print(location_name_upper)  # Convert to uppercase"
      ]
    },
    {
      "cell_type": "code",
      "execution_count": 6,
      "id": "12",
      "metadata": {
        "id": "12",
        "outputId": "b531fbac-f32e-455d-fb30-3cfe7f111325",
        "colab": {
          "base_uri": "https://localhost:8080/"
        }
      },
      "outputs": [
        {
          "output_type": "stream",
          "name": "stdout",
          "text": [
            "Mount Everest\n"
          ]
        }
      ],
      "source": [
        "location_name_clean = location_name.strip()\n",
        "print(location_name_clean)  # Remove leading/trailing whitespace"
      ]
    },
    {
      "cell_type": "code",
      "execution_count": 7,
      "id": "13",
      "metadata": {
        "id": "13",
        "outputId": "2e8e9c1a-0fd6-4fc8-cf46-8738707b1eea",
        "colab": {
          "base_uri": "https://localhost:8080/"
        }
      },
      "outputs": [
        {
          "output_type": "stream",
          "name": "stdout",
          "text": [
            "Mount K2\n"
          ]
        }
      ],
      "source": [
        "location_name_replaced = location_name.replace(\"Everest\", \"K2\")\n",
        "print(location_name_replaced)  # Replace 'Everest' with 'K2'"
      ]
    },
    {
      "cell_type": "code",
      "execution_count": 8,
      "id": "14",
      "metadata": {
        "id": "14",
        "outputId": "50511c21-9b12-47ea-d28b-7a9bca717fbb",
        "colab": {
          "base_uri": "https://localhost:8080/"
        }
      },
      "outputs": [
        {
          "output_type": "stream",
          "name": "stdout",
          "text": [
            "['Mount Everest', 'Nepal']\n"
          ]
        }
      ],
      "source": [
        "location_parts = location_name_full.split(\", \")\n",
        "print(location_parts)  # Split the string into a list"
      ]
    },
    {
      "cell_type": "markdown",
      "id": "15",
      "metadata": {
        "id": "15"
      },
      "source": [
        "Suppose you have a list of country names with inconsistent formatting, and you want to normalize them:"
      ]
    },
    {
      "cell_type": "code",
      "execution_count": 9,
      "id": "16",
      "metadata": {
        "id": "16",
        "outputId": "e19cd7ee-19b1-43ae-f03a-70de3106b06c",
        "colab": {
          "base_uri": "https://localhost:8080/"
        }
      },
      "outputs": [
        {
          "output_type": "stream",
          "name": "stdout",
          "text": [
            "['Nepal', 'India', 'China', 'Bhutan']\n"
          ]
        }
      ],
      "source": [
        "countries = [\" nepal\", \"INDIA \", \"china \", \"Bhutan\"]\n",
        "normalized_countries = [country.strip().title() for country in countries]\n",
        "print(normalized_countries)"
      ]
    },
    {
      "cell_type": "markdown",
      "id": "17",
      "metadata": {
        "id": "17"
      },
      "source": [
        "This operation removes any leading/trailing spaces and ensures consistent capitalization."
      ]
    },
    {
      "cell_type": "markdown",
      "id": "18",
      "metadata": {
        "id": "18"
      },
      "source": [
        "## Formatting Strings\n",
        "\n",
        "String formatting is essential when preparing data for output or when you need to include variable values in strings. You can use the `format()` method or f-strings (in Python 3.6 and above) for string formatting."
      ]
    },
    {
      "cell_type": "code",
      "execution_count": 10,
      "id": "19",
      "metadata": {
        "id": "19",
        "outputId": "7f9043bd-76e0-4c28-ec16-53288352d340",
        "colab": {
          "base_uri": "https://localhost:8080/"
        }
      },
      "outputs": [
        {
          "output_type": "stream",
          "name": "stdout",
          "text": [
            "Coordinates: (27.9881, 86.925)\n"
          ]
        }
      ],
      "source": [
        "latitude = 27.9881\n",
        "longitude = 86.9250\n",
        "formatted_coordinates = \"Coordinates: ({}, {})\".format(latitude, longitude)\n",
        "print(formatted_coordinates)"
      ]
    },
    {
      "cell_type": "code",
      "execution_count": 11,
      "id": "20",
      "metadata": {
        "id": "20",
        "outputId": "480c9c3a-a77d-44f3-fbee-d4357c7faa84",
        "colab": {
          "base_uri": "https://localhost:8080/"
        }
      },
      "outputs": [
        {
          "output_type": "stream",
          "name": "stdout",
          "text": [
            "Coordinates: (27.9881, 86.925)\n"
          ]
        }
      ],
      "source": [
        "formatted_coordinates_fstring = f\"Coordinates: ({latitude}, {longitude})\"\n",
        "print(formatted_coordinates_fstring)"
      ]
    },
    {
      "cell_type": "markdown",
      "id": "21",
      "metadata": {
        "id": "21"
      },
      "source": [
        "Well-Known Text (WKT) is a text markup language for representing vector geometry objects. Let's format a string to represent a POINT geometry:"
      ]
    },
    {
      "cell_type": "code",
      "execution_count": 12,
      "id": "22",
      "metadata": {
        "id": "22",
        "outputId": "29fb878a-5ce5-4f3f-84e7-7b5b35c605df",
        "colab": {
          "base_uri": "https://localhost:8080/"
        }
      },
      "outputs": [
        {
          "output_type": "stream",
          "name": "stdout",
          "text": [
            "POINT(86.925 27.9881)\n"
          ]
        }
      ],
      "source": [
        "wkt_point = f\"POINT({longitude} {latitude})\"\n",
        "print(wkt_point)"
      ]
    },
    {
      "cell_type": "markdown",
      "id": "23",
      "metadata": {
        "id": "23"
      },
      "source": [
        "## Parsing and Extracting Information from Strings\n",
        "\n",
        "Often, you will need to extract specific information from strings, especially when dealing with geographic data. For example, you might need to extract coordinates from a formatted string."
      ]
    },
    {
      "cell_type": "code",
      "execution_count": 13,
      "id": "24",
      "metadata": {
        "id": "24",
        "outputId": "083a4573-90ed-4d0b-a144-3b452c43976c",
        "colab": {
          "base_uri": "https://localhost:8080/"
        }
      },
      "outputs": [
        {
          "output_type": "stream",
          "name": "stdout",
          "text": [
            "Parsed coordinates: (27.9881, 86.925)\n"
          ]
        }
      ],
      "source": [
        "coordinate_string = \"27.9881N, 86.9250E\"\n",
        "lat_str, lon_str = coordinate_string.split(\", \")\n",
        "latitude = float(lat_str[:-1])  # Convert string to float and remove the 'N'\n",
        "longitude = float(lon_str[:-1])  # Convert string to float and remove the 'E'\n",
        "print(f\"Parsed coordinates: ({latitude}, {longitude})\")"
      ]
    },
    {
      "cell_type": "markdown",
      "id": "25",
      "metadata": {
        "id": "25"
      },
      "source": [
        "If you have a list of addresses in the format \"Street, City, Country\", you might want to parse and extract each component:"
      ]
    },
    {
      "cell_type": "code",
      "execution_count": 14,
      "id": "26",
      "metadata": {
        "id": "26",
        "outputId": "c6233503-f5f8-4bd4-fc76-7b703fb55019",
        "colab": {
          "base_uri": "https://localhost:8080/"
        }
      },
      "outputs": [
        {
          "output_type": "stream",
          "name": "stdout",
          "text": [
            "Street: 123 Everest Rd, City: Kathmandu, Country: Nepal\n"
          ]
        }
      ],
      "source": [
        "address = \"123 Everest Rd, Kathmandu, Nepal\"\n",
        "street, city, country = address.split(\", \")\n",
        "print(f\"Street: {street}, City: {city}, Country: {country}\")"
      ]
    },
    {
      "cell_type": "markdown",
      "id": "27",
      "metadata": {
        "id": "27"
      },
      "source": [
        "## Exercises\n",
        "\n",
        "1. Create a string representing the name of a city. Convert the string to lowercase and then to uppercase.\n",
        "2. Take a string with the format 'latitude, longitude' (e.g., '40.7128N, 74.0060W') and extract the numeric values of latitude and longitude.\n",
        "3. Create a formatted string that includes the name of a location and its coordinates. Use both the `format()` method and f-strings to achieve this.\n",
        "4. Replace a substring in the name of a place (e.g., change 'San Francisco' to 'San Diego') and print the result.\n",
        "5. Given a list of addresses in the format \"Street, City, Country\", write a function to parse and return a dictionary with keys `street`, `city`, and `country`.\n",
        "6. Write a function that converts a pair of latitude and longitude coordinates into a WKT `POINT` string."
      ]
    },
    {
      "cell_type": "code",
      "execution_count": 23,
      "id": "28",
      "metadata": {
        "id": "28",
        "outputId": "4ef9bc82-bb5b-48e8-e8b6-14a74e149a7e",
        "colab": {
          "base_uri": "https://localhost:8080/"
        }
      },
      "outputs": [
        {
          "output_type": "stream",
          "name": "stdout",
          "text": [
            "DHAKA\n",
            "parsed coordinates: (40.7128, 74.006)\n",
            "Coordinates: (Dhaka, (27.9881, 86.925))\n",
            "Coordinates: (Dhaka, (27.9881, 86.925))\n",
            "San Diego\n",
            "Road: 15 Dhaka Road, City: Dhaka, Country: Bangladesh\n",
            "POINT (27.9881 86.925)\n"
          ]
        }
      ],
      "source": [
        "name='Dhaka'\n",
        "name_upper=name.upper()\n",
        "print(name_upper)\n",
        "coord_str='40.7128N, 74.0060W'\n",
        "lat, lon=coord_str.split(\", \")\n",
        "lat_flt=float(lat[:-1])\n",
        "lon_flt=float(lon[:-1])\n",
        "print(f\"parsed coordinates: ({lat_flt}, {lon_flt})\")\n",
        "lati = 27.9881\n",
        "long = 86.9250\n",
        "print(\"Coordinates: ({}, ({}, {}))\".format(name, lati,long))\n",
        "print(f\"Coordinates: ({name}, ({lati}, {long}))\")\n",
        "name_new='San Francisco'\n",
        "print(name_new.replace('Francisco','Diego'))\n",
        "info='15 Dhaka Road, Dhaka, Bangladesh'\n",
        "road, city, country=info.split(', ')\n",
        "print(f\"Road: {road}, City: {city}, Country: {country}\")\n",
        "wkt_pt=f\"POINT ({lati} {long})\"\n",
        "print(wkt_pt)"
      ]
    },
    {
      "cell_type": "markdown",
      "id": "29",
      "metadata": {
        "id": "29"
      },
      "source": [
        "## Summary\n",
        "\n",
        "String operations are crucial in geospatial programming, especially when dealing with textual geographic data. Mastering these operations will enable you to handle and manipulate geographic information effectively in your projects, whether you're formatting outputs, parsing inputs, or integrating with geospatial databases."
      ]
    }
  ],
  "metadata": {
    "kernelspec": {
      "display_name": "Python 3",
      "language": "python",
      "name": "python3"
    },
    "language_info": {
      "codemirror_mode": {
        "name": "ipython",
        "version": 3
      },
      "file_extension": ".py",
      "mimetype": "text/x-python",
      "name": "python",
      "nbconvert_exporter": "python",
      "pygments_lexer": "ipython3",
      "version": "3.11.8"
    },
    "colab": {
      "provenance": []
    }
  },
  "nbformat": 4,
  "nbformat_minor": 5
}