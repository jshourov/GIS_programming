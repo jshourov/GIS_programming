{
  "cells": [
    {
      "cell_type": "markdown",
      "id": "0",
      "metadata": {
        "id": "0"
      },
      "source": [
        "# Looping and Control Statements\n",
        "\n",
        "[![Open In Colab](https://colab.research.google.com/assets/colab-badge.svg)](https://colab.research.google.com/github/giswqs/geog-312/blob/main/book/python/05_looping.ipynb)\n",
        "\n",
        "## Overview\n",
        "\n",
        "This lecture introduces looping and control statements in Python, focusing on their applications in geospatial programming. Loops and control statements are essential tools for automating repetitive tasks, making decisions based on data conditions, and efficiently processing large geospatial datasets. By mastering these concepts, you will be able to handle complex geospatial analysis tasks with greater efficiency and precision.\n",
        "\n",
        "## Learning Objectives\n",
        "\n",
        "By the end of this lecture, you should be able to:\n",
        "\n",
        "- Understand and implement `for` loops to iterate over sequences such as lists and tuples.\n",
        "- Use `while` loops to perform tasks until a specific condition is met.\n",
        "- Apply control statements (`if`, `elif`, `else`) to execute different blocks of code based on data conditions.\n",
        "- Combine loops and control statements to filter, process, and analyze geospatial data.\n",
        "- Develop the ability to automate repetitive geospatial tasks, making your data processing workflows more efficient.\n",
        "\n",
        "## For Loops\n",
        "\n",
        "For loops allow you to iterate over a sequence (such as a list, tuple, or string) and execute a block of code for each item in the sequence. This is particularly useful in geospatial programming when you need to process multiple features or coordinates."
      ]
    },
    {
      "cell_type": "code",
      "execution_count": 1,
      "id": "1",
      "metadata": {
        "id": "1",
        "outputId": "f874f31e-331b-4572-b944-b2211faf0dfd",
        "colab": {
          "base_uri": "https://localhost:8080/"
        }
      },
      "outputs": [
        {
          "output_type": "stream",
          "name": "stdout",
          "text": [
            "Latitude: 35.6895, Longitude: 139.6917\n",
            "Latitude: 34.0522, Longitude: -118.2437\n",
            "Latitude: 51.5074, Longitude: -0.1278\n"
          ]
        }
      ],
      "source": [
        "coordinates = [\n",
        "    (35.6895, 139.6917),\n",
        "    (34.0522, -118.2437),\n",
        "    (51.5074, -0.1278),\n",
        "]  # List of tuples representing coordinates\n",
        "\n",
        "for lat, lon in coordinates:\n",
        "    print(f\"Latitude: {lat}, Longitude: {lon}\")"
      ]
    },
    {
      "cell_type": "markdown",
      "id": "2",
      "metadata": {
        "id": "2"
      },
      "source": [
        "Assuming you have a function to calculate distances, you can use a loop to compute distances from a reference point."
      ]
    },
    {
      "cell_type": "code",
      "execution_count": 2,
      "id": "3",
      "metadata": {
        "id": "3",
        "outputId": "675d4b40-c72c-4ae3-a9c7-b460b7942773",
        "colab": {
          "base_uri": "https://localhost:8080/"
        }
      },
      "outputs": [
        {
          "output_type": "stream",
          "name": "stdout",
          "text": [
            "Distance from (0, 0) to (35.6895, 139.6917): 144.18\n",
            "Distance from (0, 0) to (34.0522, -118.2437): 123.05\n",
            "Distance from (0, 0) to (51.5074, -0.1278): 51.51\n"
          ]
        }
      ],
      "source": [
        "def calculate_distance(lat1, lon1, lat2, lon2):\n",
        "    # Placeholder for distance calculation logic\n",
        "    return ((lat2 - lat1) ** 2 + (lon2 - lon1) ** 2) ** 0.5\n",
        "\n",
        "\n",
        "reference_point = (0, 0)  # Reference point (latitude, longitude)\n",
        "\n",
        "for lat, lon in coordinates:\n",
        "    distance = calculate_distance(reference_point[0], reference_point[1], lat, lon)\n",
        "    print(f\"Distance from {reference_point} to ({lat}, {lon}): {distance:.2f}\")"
      ]
    },
    {
      "cell_type": "markdown",
      "id": "4",
      "metadata": {
        "id": "4"
      },
      "source": [
        "## While Loops\n",
        "\n",
        "While loops continue to execute a block of code as long as a specified condition is true. They are useful when the number of iterations is not known beforehand, such as when processing data until a certain condition is met."
      ]
    },
    {
      "cell_type": "code",
      "execution_count": 3,
      "id": "5",
      "metadata": {
        "id": "5",
        "outputId": "07a9d5a7-6251-40a0-dc00-6b3c9132ed1d",
        "colab": {
          "base_uri": "https://localhost:8080/"
        }
      },
      "outputs": [
        {
          "output_type": "stream",
          "name": "stdout",
          "text": [
            "Processing coordinate: (35.6895, 139.6917)\n",
            "Processing coordinate: (34.0522, -118.2437)\n",
            "Processing coordinate: (51.5074, -0.1278)\n"
          ]
        }
      ],
      "source": [
        "counter = 0\n",
        "while counter < len(coordinates):\n",
        "    lat, lon = coordinates[counter]\n",
        "    print(f\"Processing coordinate: ({lat}, {lon})\")\n",
        "    counter += 1"
      ]
    },
    {
      "cell_type": "markdown",
      "id": "6",
      "metadata": {
        "id": "6"
      },
      "source": [
        "## Control Statements: if, elif, else\n",
        "\n",
        "Control statements allow you to execute different blocks of code based on certain conditions. In geospatial programming, this is useful for handling different types of data or conditions."
      ]
    },
    {
      "cell_type": "code",
      "execution_count": 4,
      "id": "7",
      "metadata": {
        "id": "7",
        "outputId": "ad4ded46-9286-43eb-f3c3-83fce2854c29",
        "colab": {
          "base_uri": "https://localhost:8080/"
        }
      },
      "outputs": [
        {
          "output_type": "stream",
          "name": "stdout",
          "text": [
            "35.6895 is in the Northern Hemisphere\n",
            "34.0522 is in the Northern Hemisphere\n",
            "51.5074 is in the Northern Hemisphere\n"
          ]
        }
      ],
      "source": [
        "for lat, lon in coordinates:\n",
        "    if lat > 0:\n",
        "        print(f\"{lat} is in the Northern Hemisphere\")\n",
        "    elif lat < 0:\n",
        "        print(f\"{lat} is in the Southern Hemisphere\")\n",
        "    else:\n",
        "        print(f\"{lat} is near the equator\")"
      ]
    },
    {
      "cell_type": "markdown",
      "id": "8",
      "metadata": {
        "id": "8"
      },
      "source": [
        "You can further categorize based on longitude:"
      ]
    },
    {
      "cell_type": "code",
      "execution_count": 5,
      "id": "9",
      "metadata": {
        "id": "9",
        "outputId": "072affe0-2b29-4400-92b3-89e74549bc95",
        "colab": {
          "base_uri": "https://localhost:8080/"
        }
      },
      "outputs": [
        {
          "output_type": "stream",
          "name": "stdout",
          "text": [
            "The coordinate (35.6895, 139.6917) is in the Northern Hemisphere and Eastern Hemisphere.\n",
            "The coordinate (34.0522, -118.2437) is in the Northern Hemisphere and Western Hemisphere.\n",
            "The coordinate (51.5074, -0.1278) is in the Northern Hemisphere and Western Hemisphere.\n"
          ]
        }
      ],
      "source": [
        "for lat, lon in coordinates:\n",
        "    if lat > 0:\n",
        "        hemisphere = \"Northern\"\n",
        "    else:\n",
        "        hemisphere = \"Southern\"\n",
        "\n",
        "    if lon > 0:\n",
        "        direction = \"Eastern\"\n",
        "    else:\n",
        "        direction = \"Western\"\n",
        "\n",
        "    print(\n",
        "        f\"The coordinate ({lat}, {lon}) is in the {hemisphere} Hemisphere and {direction} Hemisphere.\"\n",
        "    )\n",
        ""
      ]
    },
    {
      "cell_type": "markdown",
      "id": "10",
      "metadata": {
        "id": "10"
      },
      "source": [
        "## Combining Loops and Control Statements\n",
        "\n",
        "You can combine loops and control statements to perform more complex operations, such as filtering data or applying conditions during iteration."
      ]
    },
    {
      "cell_type": "code",
      "execution_count": 6,
      "id": "11",
      "metadata": {
        "id": "11",
        "outputId": "cdf4cdcc-4794-4a9d-9b3b-7e06b4f883fe",
        "colab": {
          "base_uri": "https://localhost:8080/"
        }
      },
      "outputs": [
        {
          "output_type": "stream",
          "name": "stdout",
          "text": [
            "Filtered coordinates (only with positive longitude): [(35.6895, 139.6917)]\n"
          ]
        }
      ],
      "source": [
        "filtered_coordinates = []\n",
        "for lat, lon in coordinates:\n",
        "    if lon > 0:\n",
        "        filtered_coordinates.append((lat, lon))\n",
        "print(f\"Filtered coordinates (only with positive longitude): {filtered_coordinates}\")"
      ]
    },
    {
      "cell_type": "code",
      "execution_count": 7,
      "id": "12",
      "metadata": {
        "id": "12",
        "outputId": "5885792d-b9eb-4d50-a642-3d3acd4a1ad8",
        "colab": {
          "base_uri": "https://localhost:8080/"
        }
      },
      "outputs": [
        {
          "output_type": "stream",
          "name": "stdout",
          "text": [
            "Number of coordinates in the Southern Hemisphere: 0\n"
          ]
        }
      ],
      "source": [
        "southern_count = 0\n",
        "for lat, lon in coordinates:\n",
        "    if lat < 0:\n",
        "        southern_count += 1\n",
        "print(f\"Number of coordinates in the Southern Hemisphere: {southern_count}\")"
      ]
    },
    {
      "cell_type": "markdown",
      "id": "13",
      "metadata": {
        "id": "13"
      },
      "source": [
        "## Exercises\n",
        "\n",
        "1. Create a list of cities with their coordinates. Write a for loop to print out only the cities that are in the Northern Hemisphere.\n",
        "2. Write a while loop that continues to print the coordinates in a list until a coordinate with a latitude less than 0 is found.\n",
        "3. Create a for loop that iterates through a list of coordinates and prints whether each coordinate is in the Eastern or Western Hemisphere based on the longitude.\n",
        "4. Combine a for loop and if statements to count how many coordinates in a list are located in the Southern Hemisphere.\n",
        "5. Write a program that generates random coordinates (latitude and longitude) and prints them until a coordinate with both latitude and longitude greater than 50 is generated."
      ]
    },
    {
      "cell_type": "code",
      "source": [],
      "metadata": {
        "id": "npcSGFafYob5"
      },
      "id": "npcSGFafYob5",
      "execution_count": null,
      "outputs": []
    },
    {
      "cell_type": "code",
      "execution_count": 4,
      "id": "14",
      "metadata": {
        "id": "14",
        "outputId": "bc554077-829d-4388-ff2a-27e2b7b88e65",
        "colab": {
          "base_uri": "https://localhost:8080/"
        }
      },
      "outputs": [
        {
          "output_type": "stream",
          "name": "stdout",
          "text": [
            "(35.5777, 79.0) are in the Northern Hemisphere\n",
            "(23.899, -102.999) are in the Northern Hemisphere\n",
            "(32.333, 85.788) are in the Northern Hemisphere\n",
            "Coordinates= (35.5777, 79.0)\n",
            "Coordinates= (23.899, -102.999)\n",
            "Coordinates= (32.333, 85.788)\n"
          ]
        }
      ],
      "source": [
        "coordinates= [\n",
        "    (35.5777,  79.000),\n",
        "    (23.899, -102.999),\n",
        "    (32.333, 85.788)\n",
        "]\n",
        "for lat, lon in coordinates:\n",
        "  if lat > 0:\n",
        "    print(f\"({lat}, {lon}) are in the Northern Hemisphere\")\n",
        "\n",
        "counter=0\n",
        "while counter < len(coordinates):\n",
        "  lat, lon= coordinates[counter]\n",
        "  if lat >0:\n",
        "    print(f\"Coordinates= ({lat}, {lon})\")\n",
        "  counter =counter +1"
      ]
    },
    {
      "cell_type": "code",
      "source": [
        "for lat, lon in coordinates:\n",
        "  if lon > 0:\n",
        "    print(f\"({lat}, {lon}) in eastern hemisphere\")\n",
        "\n",
        "  else:\n",
        "    print(f\"({lat}, {lon}) in western hemisphere\")"
      ],
      "metadata": {
        "id": "8Zpk90-QXxjA",
        "outputId": "e862dc97-a8e0-4702-ef65-4f23b8787397",
        "colab": {
          "base_uri": "https://localhost:8080/"
        }
      },
      "id": "8Zpk90-QXxjA",
      "execution_count": 5,
      "outputs": [
        {
          "output_type": "stream",
          "name": "stdout",
          "text": [
            "(35.5777, 79.0) in eastern hemisphere\n",
            "(23.899, -102.999) in western hemisphere\n",
            "(32.333, 85.788) in eastern hemisphere\n"
          ]
        }
      ]
    },
    {
      "cell_type": "code",
      "source": [
        "counter=0\n",
        "for lat, lon in coordinates:\n",
        "  if lat < 0:\n",
        "    counter = counter +1\n",
        "\n",
        "print(f\"Total coodinates in southern hemisphere: {counter}\")\n"
      ],
      "metadata": {
        "id": "HDy1nShRYq3Q",
        "outputId": "7fed4319-e297-4f9b-bf62-8ca5f2e3a5ba",
        "colab": {
          "base_uri": "https://localhost:8080/"
        }
      },
      "id": "HDy1nShRYq3Q",
      "execution_count": 7,
      "outputs": [
        {
          "output_type": "stream",
          "name": "stdout",
          "text": [
            "Total coodinates in southern hemisphere: 0\n"
          ]
        }
      ]
    },
    {
      "cell_type": "markdown",
      "id": "15",
      "metadata": {
        "id": "15"
      },
      "source": [
        "## Summary\n",
        "\n",
        "Loops and control statements are fundamental tools in geospatial programming. They allow you to process and analyze geographic data efficiently by automating repetitive tasks and applying logic based on data conditions. Practice these concepts by applying them to your geospatial datasets and analyses."
      ]
    }
  ],
  "metadata": {
    "kernelspec": {
      "display_name": "Python 3",
      "language": "python",
      "name": "python3"
    },
    "language_info": {
      "codemirror_mode": {
        "name": "ipython",
        "version": 3
      },
      "file_extension": ".py",
      "mimetype": "text/x-python",
      "name": "python",
      "nbconvert_exporter": "python",
      "pygments_lexer": "ipython3",
      "version": "3.11.8"
    },
    "colab": {
      "provenance": []
    }
  },
  "nbformat": 4,
  "nbformat_minor": 5
}