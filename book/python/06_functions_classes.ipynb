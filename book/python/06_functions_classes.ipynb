{
  "cells": [
    {
      "cell_type": "markdown",
      "id": "0",
      "metadata": {
        "id": "0"
      },
      "source": [
        "# Functions and Classes\n",
        "\n",
        "[![Open In Colab](https://colab.research.google.com/assets/colab-badge.svg)](https://colab.research.google.com/github/giswqs/geog-312/blob/main/book/python/06_functions_classes.ipynb)\n",
        "\n",
        "## Overview\n",
        "\n",
        "This lecture introduces the concepts of functions and classes in Python, focusing on their application in geospatial programming. Functions allow you to encapsulate code into reusable blocks, making your scripts more modular and easier to maintain. Classes provide a way to create complex data structures by bundling data and functionality together. By understanding and applying these concepts, you will be able to build more sophisticated and efficient geospatial analysis tools.\n",
        "\n",
        "## Learning Objectives\n",
        "\n",
        "By the end of this lecture, you should be able to:\n",
        "\n",
        "- Define and use functions to perform specific tasks and promote code reuse in geospatial applications.\n",
        "- Understand and implement classes to represent complex geospatial data structures, such as geographic features.\n",
        "- Combine functions and classes to create modular and scalable geospatial tools.\n",
        "- Apply object-oriented programming principles to organize and manage geospatial data and operations effectively.\n",
        "- Develop the skills to extend existing classes and create new ones tailored to specific geospatial tasks."
      ]
    },
    {
      "cell_type": "markdown",
      "id": "1",
      "metadata": {
        "id": "1"
      },
      "source": [
        "## Functions\n",
        "\n",
        "Functions are blocks of code that perform a specific task and can be reused multiple times. They allow you to structure your code more efficiently and reduce redundancy.\n",
        "\n",
        "### Defining a Simple Function\n",
        "\n",
        "Here's a simple function that adds two numbers:"
      ]
    },
    {
      "cell_type": "code",
      "execution_count": 1,
      "id": "2",
      "metadata": {
        "id": "2",
        "outputId": "bdb9d2ea-b529-4c96-e5f6-43bf87c401d2",
        "colab": {
          "base_uri": "https://localhost:8080/"
        }
      },
      "outputs": [
        {
          "output_type": "stream",
          "name": "stdout",
          "text": [
            "Result: 8\n"
          ]
        }
      ],
      "source": [
        "def add(a, b):\n",
        "    return a + b\n",
        "\n",
        "\n",
        "# Example usage\n",
        "result = add(5, 3)\n",
        "print(f\"Result: {result}\")"
      ]
    },
    {
      "cell_type": "markdown",
      "id": "3",
      "metadata": {
        "id": "3"
      },
      "source": [
        "This function takes two parameters `a` and `b`, and returns their sum. You can call it by passing two values as arguments.\n",
        "\n",
        "### Parameters with Default Values\n",
        "\n",
        "Sometimes, you may want a function to have optional parameters with default values. You can specify a default value by assigning it in the function definition."
      ]
    },
    {
      "cell_type": "code",
      "execution_count": 2,
      "id": "4",
      "metadata": {
        "id": "4",
        "outputId": "f1d3c01f-fb38-4ecd-9e6c-876ad7baaef5",
        "colab": {
          "base_uri": "https://localhost:8080/"
        }
      },
      "outputs": [
        {
          "output_type": "stream",
          "name": "stdout",
          "text": [
            "Hello, Alice!\n",
            "Hi, Bob!\n"
          ]
        }
      ],
      "source": [
        "def greet(name, greeting=\"Hello\"):\n",
        "    return f\"{greeting}, {name}!\"\n",
        "\n",
        "\n",
        "# Example usage\n",
        "print(greet(\"Alice\"))  # Uses the default greeting\n",
        "print(greet(\"Bob\", \"Hi\"))  # Overrides the default greeting"
      ]
    },
    {
      "cell_type": "markdown",
      "id": "5",
      "metadata": {
        "id": "5"
      },
      "source": [
        "In this example, the greeting parameter has a default value of `\"Hello\"`. If you don't provide a second argument, the function will use this default. If you provide one, it will override the default value.\n",
        "\n",
        "### Calling Functions\n",
        "\n",
        "To call a function, you simply use its name followed by parentheses containing the arguments you want to pass. For example:"
      ]
    },
    {
      "cell_type": "code",
      "execution_count": 3,
      "id": "6",
      "metadata": {
        "id": "6",
        "outputId": "5861e386-3eb6-4439-a4fd-a2626a944e82",
        "colab": {
          "base_uri": "https://localhost:8080/"
        }
      },
      "outputs": [
        {
          "output_type": "stream",
          "name": "stdout",
          "text": [
            "Multiplication Result: 20\n"
          ]
        }
      ],
      "source": [
        "# Function to multiply two numbers\n",
        "def multiply(a, b):\n",
        "    return a * b\n",
        "\n",
        "\n",
        "# Calling the function\n",
        "result = multiply(4, 5)\n",
        "print(f\"Multiplication Result: {result}\")"
      ]
    },
    {
      "cell_type": "markdown",
      "id": "7",
      "metadata": {
        "id": "7"
      },
      "source": [
        "You can call the multiply function with two numbers, and it will return their product.\n",
        "\n",
        "### Geospatial Example: Haversine Function\n",
        "\n",
        "Let's apply these concepts to a geospatial problem. The [Haversine formula](https://en.wikipedia.org/wiki/Haversine_formula) calculates the distance between two points on the Earth’s surface.\n",
        "\n",
        "![](https://upload.wikimedia.org/wikipedia/commons/c/cb/Illustration_of_great-circle_distance.svg)"
      ]
    },
    {
      "cell_type": "code",
      "execution_count": 5,
      "id": "8",
      "metadata": {
        "id": "8"
      },
      "outputs": [],
      "source": [
        "from math import radians, sin, cos, sqrt, atan2"
      ]
    },
    {
      "cell_type": "code",
      "execution_count": 6,
      "id": "9",
      "metadata": {
        "id": "9",
        "outputId": "d76d077c-b2a8-49f2-b45a-0bdd21563834",
        "colab": {
          "base_uri": "https://localhost:8080/"
        }
      },
      "outputs": [
        {
          "output_type": "stream",
          "name": "stdout",
          "text": [
            "Distance: 8815.47 km\n"
          ]
        }
      ],
      "source": [
        "def haversine(lat1, lon1, lat2, lon2):\n",
        "    R = 6371.0  # Earth radius in kilometers\n",
        "    dlat = radians(lat2 - lat1)\n",
        "    dlon = radians(lon2 - lon1)\n",
        "    a = (\n",
        "        sin(dlat / 2) ** 2\n",
        "        + cos(radians(lat1)) * cos(radians(lat2)) * sin(dlon / 2) ** 2\n",
        "    )\n",
        "    c = 2 * atan2(sqrt(a), sqrt(1 - a))\n",
        "    distance = R * c\n",
        "    return distance\n",
        "\n",
        "\n",
        "# Example usage\n",
        "distance = haversine(35.6895, 139.6917, 34.0522, -118.2437)\n",
        "print(f\"Distance: {distance:.2f} km\")"
      ]
    },
    {
      "cell_type": "markdown",
      "id": "10",
      "metadata": {
        "id": "10"
      },
      "source": [
        "### Function with Default Values and Geospatial Application\n",
        "\n",
        "Now let's modify the haversine function to accept an optional Earth radius parameter, which has a default value for kilometers but can be set for other units like miles."
      ]
    },
    {
      "cell_type": "code",
      "execution_count": 7,
      "id": "11",
      "metadata": {
        "id": "11",
        "outputId": "ba133db4-896e-4318-d47e-5a9fbda6fd47",
        "colab": {
          "base_uri": "https://localhost:8080/"
        }
      },
      "outputs": [
        {
          "output_type": "stream",
          "name": "stdout",
          "text": [
            "Distance in kilometers: 8815.47 km\n",
            "Distance in miles: 5477.74 miles\n"
          ]
        }
      ],
      "source": [
        "def haversine(lat1, lon1, lat2, lon2, radius=6371.0):\n",
        "    dlat = radians(lat2 - lat1)\n",
        "    dlon = radians(lon2 - lon1)\n",
        "    a = (\n",
        "        sin(dlat / 2) ** 2\n",
        "        + cos(radians(lat1)) * cos(radians(lat2)) * sin(dlon / 2) ** 2\n",
        "    )\n",
        "    c = 2 * atan2(sqrt(a), sqrt(1 - a))\n",
        "    distance = radius * c\n",
        "    return distance\n",
        "\n",
        "\n",
        "# Example usage in kilometers\n",
        "distance_km = haversine(35.6895, 139.6917, 34.0522, -118.2437)\n",
        "print(f\"Distance in kilometers: {distance_km:.2f} km\")\n",
        "\n",
        "# Example usage in miles (radius of Earth is approximately 3958.8 miles)\n",
        "distance_miles = haversine(35.6895, 139.6917, 34.0522, -118.2437, radius=3958.8)\n",
        "print(f\"Distance in miles: {distance_miles:.2f} miles\")"
      ]
    },
    {
      "cell_type": "markdown",
      "id": "12",
      "metadata": {
        "id": "12"
      },
      "source": [
        "In this example, the radius parameter has a default value of 6371.0 for kilometers, but you can specify 3958.8 if you want the distance in miles.\n",
        "\n",
        "Now, let's create a function that takes a list of coordinate pairs and returns a list of distances between consecutive points."
      ]
    },
    {
      "cell_type": "code",
      "execution_count": 8,
      "id": "13",
      "metadata": {
        "id": "13",
        "outputId": "7cb96674-1926-4f8d-b0f9-d9f16da9bc5f",
        "colab": {
          "base_uri": "https://localhost:8080/"
        }
      },
      "outputs": [
        {
          "output_type": "stream",
          "name": "stdout",
          "text": [
            "Distances: [8815.473355809401, 3935.746254609723]\n"
          ]
        }
      ],
      "source": [
        "def batch_haversine(coord_list):\n",
        "    distances = []\n",
        "    for i in range(len(coord_list) - 1):\n",
        "        lat1, lon1 = coord_list[i]\n",
        "        lat2, lon2 = coord_list[i + 1]\n",
        "        distance = haversine(lat1, lon1, lat2, lon2)\n",
        "        distances.append(distance)\n",
        "    return distances\n",
        "\n",
        "\n",
        "# Example usage\n",
        "coordinates = [(35.6895, 139.6917), (34.0522, -118.2437), (40.7128, -74.0060)]\n",
        "distances = batch_haversine(coordinates)\n",
        "print(f\"Distances: {distances}\")"
      ]
    },
    {
      "cell_type": "markdown",
      "id": "14",
      "metadata": {
        "id": "14"
      },
      "source": [
        "### Function with Variable Arguments\n",
        "\n",
        "You can also create functions that accept a variable number of arguments using `*args`."
      ]
    },
    {
      "cell_type": "code",
      "execution_count": 9,
      "id": "15",
      "metadata": {
        "id": "15",
        "outputId": "8d40e415-8295-4dc2-f2f3-fda23734bba9",
        "colab": {
          "base_uri": "https://localhost:8080/"
        }
      },
      "outputs": [
        {
          "output_type": "stream",
          "name": "stdout",
          "text": [
            "20.0\n",
            "20.0\n"
          ]
        }
      ],
      "source": [
        "def average(*numbers):\n",
        "    return sum(numbers) / len(numbers)\n",
        "\n",
        "\n",
        "# Example usage\n",
        "print(average(10, 20, 30))  # 20.0\n",
        "print(average(5, 15, 25, 35))  # 20.0"
      ]
    },
    {
      "cell_type": "markdown",
      "id": "16",
      "metadata": {
        "id": "16"
      },
      "source": [
        "In Python, you can use `**kwargs` (short for \"keyword arguments\") in function definitions to pass a variable number of named arguments. This allows you to handle a flexible set of parameters in a function.\n",
        "\n",
        "Let's create an example that demonstrates how to use `**kwargs` in a function:"
      ]
    },
    {
      "cell_type": "code",
      "execution_count": 10,
      "id": "17",
      "metadata": {
        "id": "17",
        "outputId": "548b5e40-3e67-42fa-95ba-d88b3687c4aa",
        "colab": {
          "base_uri": "https://localhost:8080/"
        }
      },
      "outputs": [
        {
          "output_type": "stream",
          "name": "stdout",
          "text": [
            "Point at (35.6895, 139.6917), name: Tokyo, population: 37400000\n",
            "Point at (34.0522, -118.2437), name: Los Angeles, state: California\n"
          ]
        }
      ],
      "source": [
        "def describe_point(latitude, longitude, **kwargs):\n",
        "    description = f\"Point at ({latitude}, {longitude})\"\n",
        "\n",
        "    # Add optional keyword arguments to the description\n",
        "    for key, value in kwargs.items():\n",
        "        description += f\", {key}: {value}\"\n",
        "\n",
        "    return description\n",
        "\n",
        "\n",
        "# Example usage\n",
        "print(describe_point(35.6895, 139.6917, name=\"Tokyo\", population=37400000))\n",
        "print(describe_point(34.0522, -118.2437, name=\"Los Angeles\", state=\"California\"))"
      ]
    },
    {
      "cell_type": "markdown",
      "id": "18",
      "metadata": {
        "id": "18"
      },
      "source": [
        "## Classes\n",
        "\n",
        "Classes are blueprints for creating objects, which can have attributes (data) and methods (functions). They help represent more complex data structures.\n",
        "\n",
        "### Defining a Simple Class\n",
        "\n",
        "Here's a simple Point class to represent geographic points:"
      ]
    },
    {
      "cell_type": "code",
      "execution_count": 11,
      "id": "19",
      "metadata": {
        "id": "19",
        "outputId": "a458ea93-b79c-4ebd-9210-2d2b32fbe577",
        "colab": {
          "base_uri": "https://localhost:8080/"
        }
      },
      "outputs": [
        {
          "output_type": "stream",
          "name": "stdout",
          "text": [
            "Tokyo (35.6895, 139.6917)\n"
          ]
        }
      ],
      "source": [
        "class Point:\n",
        "    def __init__(self, latitude, longitude, name=None):\n",
        "        self.latitude = latitude\n",
        "        self.longitude = longitude\n",
        "        self.name = name\n",
        "\n",
        "    def __str__(self):\n",
        "        return f\"{self.name or 'Point'} ({self.latitude}, {self.longitude})\"\n",
        "\n",
        "\n",
        "# Example usage\n",
        "point1 = Point(35.6895, 139.6917, \"Tokyo\")\n",
        "print(point1)"
      ]
    },
    {
      "cell_type": "markdown",
      "id": "20",
      "metadata": {
        "id": "20"
      },
      "source": [
        "### Adding Methods to a Class\n",
        "\n",
        "You can add methods to the class to perform operations on the attributes."
      ]
    },
    {
      "cell_type": "code",
      "execution_count": 12,
      "id": "21",
      "metadata": {
        "id": "21",
        "outputId": "6f3d604b-86fb-4579-ac82-b0fb7927801a",
        "colab": {
          "base_uri": "https://localhost:8080/"
        }
      },
      "outputs": [
        {
          "output_type": "stream",
          "name": "stdout",
          "text": [
            "Distance from Tokyo to Los Angeles: 8815.47 km\n"
          ]
        }
      ],
      "source": [
        "class Point:\n",
        "    def __init__(self, latitude, longitude, name=None):\n",
        "        self.latitude = latitude\n",
        "        self.longitude = longitude\n",
        "        self.name = name\n",
        "\n",
        "    def distance_to(self, other_point):\n",
        "        return haversine(\n",
        "            self.latitude, self.longitude, other_point.latitude, other_point.longitude\n",
        "        )\n",
        "\n",
        "\n",
        "# Example usage\n",
        "point1 = Point(35.6895, 139.6917, \"Tokyo\")\n",
        "point2 = Point(34.0522, -118.2437, \"Los Angeles\")\n",
        "print(\n",
        "    f\"Distance from {point1.name} to {point2.name}: {point1.distance_to(point2):.2f} km\"\n",
        ")"
      ]
    },
    {
      "cell_type": "markdown",
      "id": "22",
      "metadata": {
        "id": "22"
      },
      "source": [
        "### Constructor with Default Values\n",
        "\n",
        "You can also use default values in the constructor of a class."
      ]
    },
    {
      "cell_type": "code",
      "execution_count": 13,
      "id": "23",
      "metadata": {
        "id": "23"
      },
      "outputs": [],
      "source": [
        "class Point:\n",
        "    def __init__(self, latitude, longitude, name=\"Unnamed\"):\n",
        "        self.latitude = latitude\n",
        "        self.longitude = longitude\n",
        "        self.name = name"
      ]
    },
    {
      "cell_type": "markdown",
      "id": "24",
      "metadata": {
        "id": "24"
      },
      "source": [
        "## Combining Functions and Classes\n",
        "\n",
        "You can use functions within classes to create more powerful and flexible geospatial tools. For instance, by incorporating distance calculations and midpoints, we can make the `Point` class much more versatile.\n",
        "\n",
        "Let's create a method in the `Point` class that calculates the total distance when traveling through a series of points."
      ]
    },
    {
      "cell_type": "code",
      "execution_count": 14,
      "id": "25",
      "metadata": {
        "id": "25",
        "outputId": "780b01a3-65ca-41a4-923e-9d142ebc5cde",
        "colab": {
          "base_uri": "https://localhost:8080/"
        }
      },
      "outputs": [
        {
          "output_type": "stream",
          "name": "stdout",
          "text": [
            "Total distance: 8815.47 km\n"
          ]
        }
      ],
      "source": [
        "class Route:\n",
        "    def __init__(self, points):\n",
        "        self.points = points\n",
        "\n",
        "    def total_distance(self):\n",
        "        total_dist = 0\n",
        "        for i in range(len(self.points) - 1):\n",
        "            total_dist += self.points[i].distance_to(self.points[i + 1])\n",
        "        return total_dist\n",
        "\n",
        "\n",
        "# Example usage\n",
        "route = Route([point1, point2])\n",
        "print(f\"Total distance: {route.total_distance():.2f} km\")"
      ]
    },
    {
      "cell_type": "markdown",
      "id": "26",
      "metadata": {
        "id": "26"
      },
      "source": [
        "## Exercises\n",
        "\n",
        "1. Write a function called `convert_distance` that converts distances from kilometers to miles and vice versa. The function should accept two parameters: `distance` and `unit`, where `unit` has a default value of `\"km\"`. If the unit is `\"km\"`, it should convert the distance to miles, and if the unit is `\"miles\"`, it should convert the distance to kilometers.\n",
        "2. Write a function called `sum_coordinates` that accepts a variable number of coordinate pairs (tuples) as input. The function should return the sum of all the latitude and longitude values provided.\n",
        "3. Extend the `Point` class to include a method called `move` that adjusts the latitude and longitude by a given amount. For example, if you call `move(1, -1)`, it should increase the latitude by 1 and decrease the longitude by 1.\n",
        "4. Create a `Rectangle` class that accepts two `Point` objects representing the bottom-left and top-right corners of the rectangle. The class should include a method called `area` that returns the area of the rectangle, assuming the coordinates are in the same coordinate system."
      ]
    },
    {
      "cell_type": "code",
      "execution_count": 17,
      "id": "27",
      "metadata": {
        "id": "27",
        "outputId": "af7752b8-5913-45aa-ecf9-e85cf3ad1311",
        "colab": {
          "base_uri": "https://localhost:8080/"
        }
      },
      "outputs": [
        {
          "output_type": "stream",
          "name": "stdout",
          "text": [
            "8.0467\n"
          ]
        }
      ],
      "source": [
        "def convert_distance(distance, unit):\n",
        "  if unit=='km':\n",
        "    distance= distance*0.621371\n",
        "\n",
        "  elif unit=='miles':\n",
        "    distance=distance*1.60934\n",
        "\n",
        "  return distance\n",
        "\n",
        "dist= convert_distance(5, 'miles')\n",
        "print(dist)\n"
      ]
    },
    {
      "cell_type": "code",
      "source": [
        "def sum_coordinates(latitude, longitude):\n",
        ""
      ],
      "metadata": {
        "id": "_sjbnuS9KDoQ"
      },
      "id": "_sjbnuS9KDoQ",
      "execution_count": null,
      "outputs": []
    },
    {
      "cell_type": "markdown",
      "id": "28",
      "metadata": {
        "id": "28"
      },
      "source": [
        "## Summary\n",
        "\n",
        "In this lecture, we introduced the concepts of functions and classes. Functions allow you to encapsulate code into reusable blocks, while classes help you represent complex data structures like geospatial points. By combining these, you can build modular, scalable geospatial tools that perform various tasks efficiently."
      ]
    },
    {
      "cell_type": "code",
      "source": [],
      "metadata": {
        "id": "IMfFiFDoKC55"
      },
      "id": "IMfFiFDoKC55",
      "execution_count": null,
      "outputs": []
    }
  ],
  "metadata": {
    "kernelspec": {
      "display_name": "Python 3 (ipykernel)",
      "language": "python",
      "name": "python3"
    },
    "language_info": {
      "codemirror_mode": {
        "name": "ipython",
        "version": 3
      },
      "file_extension": ".py",
      "mimetype": "text/x-python",
      "name": "python",
      "nbconvert_exporter": "python",
      "pygments_lexer": "ipython3",
      "version": "3.11.8"
    },
    "colab": {
      "provenance": []
    }
  },
  "nbformat": 4,
  "nbformat_minor": 5
}